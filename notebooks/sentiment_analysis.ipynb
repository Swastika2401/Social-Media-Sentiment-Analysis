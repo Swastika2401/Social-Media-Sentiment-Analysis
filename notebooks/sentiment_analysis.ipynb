{
 "cells": [
  {
   "cell_type": "code",
   "execution_count": 2,
   "id": "8b738171-c35b-49bb-8524-7a0add26efab",
   "metadata": {},
   "outputs": [
    {
     "name": "stderr",
     "output_type": "stream",
     "text": [
      "[nltk_data] Downloading package stopwords to\n",
      "[nltk_data]     C:\\Users\\kumar\\AppData\\Roaming\\nltk_data...\n",
      "[nltk_data]   Package stopwords is already up-to-date!\n"
     ]
    }
   ],
   "source": [
    "import pandas as pd\n",
    "import numpy as np\n",
    "import re\n",
    "import nltk\n",
    "import matplotlib.pyplot as plt\n",
    "import seaborn as sns\n",
    "\n",
    "from sklearn.model_selection import train_test_split\n",
    "from sklearn.feature_extraction.text import TfidfVectorizer\n",
    "from sklearn.linear_model import LogisticRegression\n",
    "from sklearn.pipeline import Pipeline\n",
    "from sklearn.metrics import classification_report, accuracy_score\n",
    "import joblib\n",
    "\n",
    "nltk.download('stopwords')\n",
    "from nltk.corpus import stopwords"
   ]
  },
  {
   "cell_type": "code",
   "execution_count": 4,
   "id": "4936c41f-4a4b-45c3-b572-710d28c6a85a",
   "metadata": {},
   "outputs": [
    {
     "name": "stdout",
     "output_type": "stream",
     "text": [
      "         Date             User  \\\n",
      "0  2022:10:19   QuestionsBotYT   \n",
      "1  2022:10:19       PaperDabba   \n",
      "2  2022:10:19   mnjworldcom123   \n",
      "3  2022:10:19  BravePedestrian   \n",
      "4  2022:10:19   NaMoPraveenKor   \n",
      "\n",
      "                                               Tweet      Time  \n",
      "0                        Is Narendra Modi a toaster?  23:57:08  \n",
      "1  5G About To Bring Major Change, Will Revolutio...  23:56:38  \n",
      "2  Prime Minister Shri Narendra Modi along with H...  23:51:02  \n",
      "3  Bharat Mata has waited 5000 years for a true s...  23:40:58  \n",
      "4  How Narendra Modi’s game-changing Gati Shakti ...  23:34:25  \n",
      "         Date             User  \\\n",
      "0  2022:10:19          MdIjran   \n",
      "1  2022:10:19  28bde43dae3c430   \n",
      "2  2022:10:19         SkAnzar5   \n",
      "3  2022:10:19    HariRamDamor2   \n",
      "4  2022:10:19     srinivas_das   \n",
      "\n",
      "                                               Tweet      Time  \n",
      "0  @JaikyYadav16 इन विकल्पों में से और अभी के समय...  23:55:49  \n",
      "1  @ndtv Rahul Gandhi left congress in the mid ro...  23:53:30  \n",
      "2                         @JaikyYadav16 Rahul Gandhi  23:32:16  \n",
      "3             rahul Gandhi ji is real hero of india.  23:32:09  \n",
      "4  Rahul Gandhi is getting massive support in And...  23:21:18  \n",
      "         Date             User  \\\n",
      "0  2022:10:19        bhoo_sene   \n",
      "1  2022:10:19  Madhusu88858324   \n",
      "2  2022:10:19  PremshilaKumarp   \n",
      "3  2022:10:19        lifebecom   \n",
      "4  2022:10:19        sphavisha   \n",
      "\n",
      "                                               Tweet      Time  \n",
      "0  @TajinderBagga Aap leaders are speaking agains...  23:47:01  \n",
      "1  Bjp Aap se sikh rhi h\\nNarendra Modi Manish Si...  23:06:35  \n",
      "2                      @JaikyYadav16 Arvind kejriwal  22:56:42  \n",
      "3  Arvind Kejriwal As PM Visits Gujarat School ht...  22:20:51  \n",
      "4  Arvind Kejriwal's stand against rape is very c...  22:20:16  \n"
     ]
    }
   ],
   "source": [
    "modi_df = pd.read_csv(\"../data/raw/Narendra Modi_data.csv\")\n",
    "rahul_df = pd.read_csv(\"../data/raw/Rahul Gandhi_data.csv\")\n",
    "kejri_df = pd.read_csv(\"../data/raw/Arvind Kejriwal_data.csv\")\n",
    "\n",
    "print(modi_df.head())\n",
    "print(rahul_df.head())\n",
    "print(kejri_df.head())"
   ]
  },
  {
   "cell_type": "code",
   "execution_count": 8,
   "id": "8c78b254-0e5e-4905-a637-5b072aab56d1",
   "metadata": {},
   "outputs": [
    {
     "name": "stdout",
     "output_type": "stream",
     "text": [
      "Modi: Index(['Date', 'User', 'Tweet', 'Time', 'candidate'], dtype='object')\n",
      "Rahul: Index(['Date', 'User', 'Tweet', 'Time', 'candidate'], dtype='object')\n",
      "Kejri: Index(['Date', 'User', 'Tweet', 'Time', 'candidate'], dtype='object')\n"
     ]
    }
   ],
   "source": [
    "print(\"Modi:\", modi_df.columns)\n",
    "print(\"Rahul:\", rahul_df.columns)\n",
    "print(\"Kejri:\", kejri_df.columns)\n"
   ]
  },
  {
   "cell_type": "code",
   "execution_count": 16,
   "id": "43bf5711-6f2d-4aae-a87c-ab997c4aa740",
   "metadata": {},
   "outputs": [
    {
     "name": "stdout",
     "output_type": "stream",
     "text": [
      "Combined dataset shape: (210000, 3)\n",
      "  candidate                                               text  \\\n",
      "0      Modi                        Is Narendra Modi a toaster?   \n",
      "1      Modi  5G About To Bring Major Change, Will Revolutio...   \n",
      "2      Modi  Prime Minister Shri Narendra Modi along with H...   \n",
      "3      Modi  Bharat Mata has waited 5000 years for a true s...   \n",
      "4      Modi  How Narendra Modi’s game-changing Gati Shakti ...   \n",
      "\n",
      "                                          clean_text  \n",
      "0                              narendra modi toaster  \n",
      "1  g bring major change revolutionise education s...  \n",
      "2  prime minister shri narendra modi along mr pra...  \n",
      "3  bharat mata waited years true son like narendr...  \n",
      "4  narendra modis gamechanging gati shakti master...  \n"
     ]
    }
   ],
   "source": [
    "stop_words = set(stopwords.words('english'))\n",
    "\n",
    "def clean_text(text):\n",
    "    text = str(text).lower()\n",
    "    text = re.sub(r'http\\S+|www.\\S+', '', text)   # remove links\n",
    "    text = re.sub(r'@\\w+|#\\w+', '', text)         # remove mentions/hashtags\n",
    "    text = re.sub(r'[^a-z\\s]', '', text)          # keep letters only\n",
    "    text = \" \".join([w for w in text.split() if w not in stop_words])  # remove stopwords\n",
    "    return text\n",
    "\n",
    "# Rename 'Tweet' → 'text'\n",
    "modi_df = modi_df.rename(columns={'Tweet':'text'})\n",
    "rahul_df = rahul_df.rename(columns={'Tweet':'text'})\n",
    "kejri_df = kejri_df.rename(columns={'Tweet':'text'})\n",
    "\n",
    "# Keep only 'text' and 'candidate'\n",
    "modi_df = modi_df[['candidate','text']]\n",
    "rahul_df = rahul_df[['candidate','text']]\n",
    "kejri_df = kejri_df[['candidate','text']]\n",
    "\n",
    "# Clean tweets\n",
    "modi_df['clean_text'] = modi_df['text'].apply(clean_text)\n",
    "rahul_df['clean_text'] = rahul_df['text'].apply(clean_text)\n",
    "kejri_df['clean_text'] = kejri_df['text'].apply(clean_text)\n",
    "\n",
    "# Merge\n",
    "combined_df = pd.concat([modi_df, rahul_df, kejri_df], ignore_index=True)\n",
    "\n",
    "# Save processed file\n",
    "combined_df.to_csv(\"../data/processed/combined.csv\", index=False)\n",
    "\n",
    "print(\"Combined dataset shape:\", combined_df.shape)\n",
    "print(combined_df.head())\n"
   ]
  },
  {
   "cell_type": "code",
   "execution_count": 17,
   "id": "4d10d3b5-1428-4407-bad7-d76b0d520e4c",
   "metadata": {},
   "outputs": [
    {
     "name": "stdout",
     "output_type": "stream",
     "text": [
      "Collecting textblob\n",
      "  Downloading textblob-0.19.0-py3-none-any.whl.metadata (4.4 kB)\n",
      "Requirement already satisfied: nltk>=3.9 in c:\\users\\kumar\\anaconda3\\lib\\site-packages (from textblob) (3.9.1)\n",
      "Requirement already satisfied: click in c:\\users\\kumar\\anaconda3\\lib\\site-packages (from nltk>=3.9->textblob) (8.1.7)\n",
      "Requirement already satisfied: joblib in c:\\users\\kumar\\anaconda3\\lib\\site-packages (from nltk>=3.9->textblob) (1.4.2)\n",
      "Requirement already satisfied: regex>=2021.8.3 in c:\\users\\kumar\\anaconda3\\lib\\site-packages (from nltk>=3.9->textblob) (2024.9.11)\n",
      "Requirement already satisfied: tqdm in c:\\users\\kumar\\anaconda3\\lib\\site-packages (from nltk>=3.9->textblob) (4.66.5)\n",
      "Requirement already satisfied: colorama in c:\\users\\kumar\\anaconda3\\lib\\site-packages (from click->nltk>=3.9->textblob) (0.4.6)\n",
      "Downloading textblob-0.19.0-py3-none-any.whl (624 kB)\n",
      "   ---------------------------------------- 0.0/624.3 kB ? eta -:--:--\n",
      "   ---------------- ----------------------- 262.1/624.3 kB ? eta -:--:--\n",
      "   ---------------------------------------- 624.3/624.3 kB 4.6 MB/s eta 0:00:00\n",
      "Installing collected packages: textblob\n",
      "Successfully installed textblob-0.19.0\n"
     ]
    }
   ],
   "source": [
    "!pip install textblob"
   ]
  },
  {
   "cell_type": "code",
   "execution_count": 20,
   "id": "75c1fab0-f96a-42dd-a82a-5220d9421ad1",
   "metadata": {},
   "outputs": [],
   "source": [
    "from textblob import TextBlob"
   ]
  },
  {
   "cell_type": "code",
   "execution_count": 22,
   "id": "6017cd8c-0408-4f06-b3f9-9de7b04a6dca",
   "metadata": {},
   "outputs": [
    {
     "name": "stderr",
     "output_type": "stream",
     "text": [
      "[nltk_data] Downloading package punkt to\n",
      "[nltk_data]     C:\\Users\\kumar\\AppData\\Roaming\\nltk_data...\n",
      "[nltk_data]   Package punkt is already up-to-date!\n"
     ]
    },
    {
     "data": {
      "text/plain": [
       "True"
      ]
     },
     "execution_count": 22,
     "metadata": {},
     "output_type": "execute_result"
    }
   ],
   "source": [
    "import nltk\n",
    "nltk.download('punkt')"
   ]
  },
  {
   "cell_type": "code",
   "execution_count": 24,
   "id": "0c3c1a62-62f6-4e63-ae3d-e54336d8a8ba",
   "metadata": {},
   "outputs": [
    {
     "name": "stdout",
     "output_type": "stream",
     "text": [
      "Dataset with sentiment column:\n",
      "  candidate                                         clean_text sentiment\n",
      "0      Modi                              narendra modi toaster   neutral\n",
      "1      Modi  g bring major change revolutionise education s...  positive\n",
      "2      Modi  prime minister shri narendra modi along mr pra...  positive\n",
      "3      Modi  bharat mata waited years true son like narendr...  positive\n",
      "4      Modi  narendra modis gamechanging gati shakti master...   neutral\n",
      "5      Modi  g bring major change revolutionise education s...  positive\n",
      "6      Modi  narendra modi elon musk politics entreprenuria...  positive\n",
      "7      Modi  jai hind jai bhart bharat mata ki jai bande ma...  positive\n",
      "8      Modi  prime minister shri narendra modi holds bilate...   neutral\n",
      "9      Modi  prime minister shri narendra modi interacted i...   neutral\n"
     ]
    }
   ],
   "source": [
    "from textblob import TextBlob\n",
    "\n",
    "def get_sentiment(text):\n",
    "    if not text or text.strip() == \"\":\n",
    "        return \"neutral\"\n",
    "    \n",
    "    polarity = TextBlob(text).sentiment.polarity\n",
    "    if polarity > 0:\n",
    "        return \"positive\"\n",
    "    elif polarity < 0:\n",
    "        return \"negative\"\n",
    "    else:\n",
    "        return \"neutral\"\n",
    "\n",
    "combined_df['sentiment'] = combined_df['clean_text'].apply(get_sentiment)\n",
    "combined_df.to_csv(\"../data/processed/combined.csv\", index=False)\n",
    "\n",
    "print(\"Dataset with sentiment column:\")\n",
    "print(combined_df[['candidate','clean_text','sentiment']].head(10))"
   ]
  },
  {
   "cell_type": "code",
   "execution_count": 26,
   "id": "acc24f37-7ebf-4566-9146-d543ea7fcf9f",
   "metadata": {},
   "outputs": [],
   "source": [
    "combined_df.to_csv(\"../data/processed/combined.csv\", index=False)"
   ]
  },
  {
   "cell_type": "code",
   "execution_count": 28,
   "id": "5a8da5ff-75de-451a-a797-48bad58b3f5d",
   "metadata": {},
   "outputs": [
    {
     "name": "stdout",
     "output_type": "stream",
     "text": [
      "sentiment\n",
      "neutral     123841\n",
      "positive     66097\n",
      "negative     20062\n",
      "Name: count, dtype: int64\n"
     ]
    },
    {
     "data": {
      "image/png": "[encoded data removed]",
      "text/plain": [
       "<Figure size 640x480 with 1 Axes>"
      ]
     },
     "metadata": {},
     "output_type": "display_data"
    },
    {
     "name": "stdout",
     "output_type": "stream",
     "text": [
      "candidate  sentiment\n",
      "Kejriwal   neutral      42809\n",
      "           positive     18478\n",
      "           negative      8713\n",
      "Modi       neutral      38786\n",
      "           positive     27099\n",
      "           negative      4115\n",
      "Rahul      neutral      42246\n",
      "           positive     20520\n",
      "           negative      7234\n",
      "Name: count, dtype: int64\n"
     ]
    }
   ],
   "source": [
    "df = pd.read_csv(\"../data/processed/combined.csv\")\n",
    "\n",
    "print(df['sentiment'].value_counts())\n",
    "sns.countplot(x='sentiment', data=df)\n",
    "plt.show()\n",
    "\n",
    "print(df.groupby('candidate')['sentiment'].value_counts())"
   ]
  },
  {
   "cell_type": "code",
   "execution_count": null,
   "id": "306e1389-187b-4153-b200-1660ea457eea",
   "metadata": {},
   "outputs": [],
   "source": []
  }
 ],
 "metadata": {
  "kernelspec": {
   "display_name": "Python [conda env:base] *",
   "language": "python",
   "name": "conda-base-py"
  },
  "language_info": {
   "codemirror_mode": {
    "name": "ipython",
    "version": 3
   },
   "file_extension": ".py",
   "mimetype": "text/x-python",
   "name": "python",
   "nbconvert_exporter": "python",
   "pygments_lexer": "ipython3",
   "version": "3.12.7"
  }
 },
 "nbformat": 4,
 "nbformat_minor": 5
}
