{
 "cells": [
  {
   "cell_type": "code",
   "execution_count": 2,
   "id": "1ff9e516",
   "metadata": {},
   "outputs": [],
   "source": [
    "import pandas as pd \n",
    "import re \n",
    "from sklearn.feature_extraction.text import TfidfVectorizer\n",
    "from sklearn.linear_model import LogisticRegression\n",
    "from sklearn.metrics import classification_report, accuracy_score, confusion_matrix\n",
    "import io"
   ]
  },
  {
   "cell_type": "code",
   "execution_count": 5,
   "id": "438e28f4",
   "metadata": {},
   "outputs": [],
   "source": [
    "# step1 : load the raw data \n",
    "\n",
    "df_modi = pd.read_csv(\"../data/raw/Narendra Modi_data.csv\")\n",
    "df_rahul = pd.read_csv(\"../data/raw/Rahul Gandhi_data.csv\")\n",
    "df_kejriwal = pd.read_csv(\"../data/raw/Arvind Kejriwal_data.csv\")"
   ]
  },
  {
   "cell_type": "code",
   "execution_count": 4,
   "id": "4be9d761",
   "metadata": {},
   "outputs": [
    {
     "name": "stdout",
     "output_type": "stream",
     "text": [
      "         Date             User  \\\n",
      "0  2022:10:19   QuestionsBotYT   \n",
      "1  2022:10:19       PaperDabba   \n",
      "2  2022:10:19   mnjworldcom123   \n",
      "3  2022:10:19  BravePedestrian   \n",
      "4  2022:10:19   NaMoPraveenKor   \n",
      "\n",
      "                                               Tweet      Time  \n",
      "0                        Is Narendra Modi a toaster?  23:57:08  \n",
      "1  5G About To Bring Major Change, Will Revolutio...  23:56:38  \n",
      "2  Prime Minister Shri Narendra Modi along with H...  23:51:02  \n",
      "3  Bharat Mata has waited 5000 years for a true s...  23:40:58  \n",
      "4  How Narendra Modi’s game-changing Gati Shakti ...  23:34:25  \n",
      "         Date             User  \\\n",
      "0  2022:10:19          MdIjran   \n",
      "1  2022:10:19  28bde43dae3c430   \n",
      "2  2022:10:19         SkAnzar5   \n",
      "3  2022:10:19    HariRamDamor2   \n",
      "4  2022:10:19     srinivas_das   \n",
      "\n",
      "                                               Tweet      Time  \n",
      "0  @JaikyYadav16 इन विकल्पों में से और अभी के समय...  23:55:49  \n",
      "1  @ndtv Rahul Gandhi left congress in the mid ro...  23:53:30  \n",
      "2                         @JaikyYadav16 Rahul Gandhi  23:32:16  \n",
      "3             rahul Gandhi ji is real hero of india.  23:32:09  \n",
      "4  Rahul Gandhi is getting massive support in And...  23:21:18  \n",
      "         Date             User  \\\n",
      "0  2022:10:19        bhoo_sene   \n",
      "1  2022:10:19  Madhusu88858324   \n",
      "2  2022:10:19  PremshilaKumarp   \n",
      "3  2022:10:19        lifebecom   \n",
      "4  2022:10:19        sphavisha   \n",
      "\n",
      "                                               Tweet      Time  \n",
      "0  @TajinderBagga Aap leaders are speaking agains...  23:47:01  \n",
      "1  Bjp Aap se sikh rhi h\\nNarendra Modi Manish Si...  23:06:35  \n",
      "2                      @JaikyYadav16 Arvind kejriwal  22:56:42  \n",
      "3  Arvind Kejriwal As PM Visits Gujarat School ht...  22:20:51  \n",
      "4  Arvind Kejriwal's stand against rape is very c...  22:20:16  \n"
     ]
    }
   ],
   "source": [
    "print(modi_df.head())\n",
    "print(rahul_df.head())\n",
    "print(kejri_df.head())"
   ]
  },
  {
   "cell_type": "code",
   "execution_count": 6,
   "id": "5978e563",
   "metadata": {},
   "outputs": [
    {
     "name": "stdout",
     "output_type": "stream",
     "text": [
      "Combined Data Loaded. Total rows: 210000\n"
     ]
    }
   ],
   "source": [
    "# combine dataframes\n",
    "df = pd.concat([df_modi, df_rahul, df_kejriwal], ignore_index=True)\n",
    "print(\"Combined Data Loaded. Total rows:\", len(df))"
   ]
  },
  {
   "cell_type": "code",
   "execution_count": 7,
   "id": "80e88fdc",
   "metadata": {},
   "outputs": [],
   "source": [
    "# STEP -2 initial preprocessing (cleaning the text)\n",
    "\n",
    "def clean_tweet(text):\n",
    "    text= str(text) # to make sure text is string \n",
    "    text=re.sub(r'http\\S+|www\\S+|https\\S+', '', text, flags=re.MULTILINE) # Remove URLs\n",
    "    text = re.sub(r'@\\w+', '', text) # Remove mentions (@anurag)\n",
    "    text = re.sub(r'RT[\\s]+', '', text) # Remove Retweet tags\n",
    "    text = re.sub(r'[^\\w\\s#]', '', text) # Remove special characters/emojis\n",
    "    text = text.lower() # Convert to lowercase\n",
    "    return text"
   ]
  },
  {
   "cell_type": "code",
   "execution_count": 8,
   "id": "e199daf3",
   "metadata": {},
   "outputs": [],
   "source": [
    "df['Clean_Tweet'] = df['Tweet'].apply(clean_tweet)"
   ]
  },
  {
   "cell_type": "code",
   "execution_count": null,
   "id": "f6938c69",
   "metadata": {},
   "outputs": [],
   "source": [
    "df.dropna(subset=['Clean_Tweet'] , inplace=True) # Important : Drop not a number values\n",
    "print(\"Tweets Cleaned\")"
   ]
  }
 ],
 "metadata": {
  "kernelspec": {
   "display_name": "Python 3",
   "language": "python",
   "name": "python3"
  },
  "language_info": {
   "codemirror_mode": {
    "name": "ipython",
    "version": 3
   },
   "file_extension": ".py",
   "mimetype": "text/x-python",
   "name": "python",
   "nbconvert_exporter": "python",
   "pygments_lexer": "ipython3",
   "version": "3.11.3"
  }
 },
 "nbformat": 4,
 "nbformat_minor": 5
}
